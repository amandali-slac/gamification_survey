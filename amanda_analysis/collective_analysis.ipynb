{
 "cells": [
  {
   "cell_type": "code",
   "execution_count": 2,
   "id": "7969515e-6151-4f3c-a3d6-fe5b4579113a",
   "metadata": {},
   "outputs": [],
   "source": [
    "import marimo as mo\n",
    "import pandas as pd\n",
    "import numpy as np"
   ]
  },
  {
   "cell_type": "code",
   "execution_count": 50,
   "id": "ff37d91c-76c1-46c5-be95-161406e14be3",
   "metadata": {},
   "outputs": [],
   "source": [
    "real_set = pd.read_csv(\"/Users/amandali/projects/surveyapp/old_stuff/old_survey/participant_data/all_participant_data.csv\")\n",
    "reevaluation_df = pd.read_csv(\"/Users/amandali/projects/surveyapp/old_stuff/old_survey/participant_data/wednesday_8am_12pm_4pm_reevaluation.csv\")\n",
    "personality_class = pd.read_csv(\"/Users/amandali/projects/surveyapp/amanda_analysis/form_data/classification_num.csv\")"
   ]
  },
  {
   "cell_type": "code",
   "execution_count": 69,
   "id": "9d3161ed-9caa-4e5c-85ff-409b7938f9e1",
   "metadata": {},
   "outputs": [],
   "source": [
    "filler_real = pd.DataFrame(columns = [\"Achiever, Explorer, Socializer, Influencer\"])\n",
    "for i in range(real_set.shape[0]):\n",
    "    new_df = breakdown(answers_to_int(real_set.iloc[i].tolist(), personality_class))\n",
    "    filler_real = pd.concat([filler_real, new_df])\n",
    "\n",
    "achiever_real = filler_real[\"Achiever\"].mean()/8 * 100\n",
    "explorer_real = filler_real[\"Explorer\"].mean()/8 * 100\n",
    "socializer_real = filler_real[\"Socializer\"].mean()/8 * 100\n",
    "influencer_real = filler_real[\"Influencer\"].mean()/8 * 100"
   ]
  },
  {
   "cell_type": "code",
   "execution_count": 65,
   "id": "fef4e66f-6cba-412c-8548-06466a5b0560",
   "metadata": {},
   "outputs": [
    {
     "data": {
      "text/html": [
       "<div>\n",
       "<style scoped>\n",
       "    .dataframe tbody tr th:only-of-type {\n",
       "        vertical-align: middle;\n",
       "    }\n",
       "\n",
       "    .dataframe tbody tr th {\n",
       "        vertical-align: top;\n",
       "    }\n",
       "\n",
       "    .dataframe thead th {\n",
       "        text-align: right;\n",
       "    }\n",
       "</style>\n",
       "<table border=\"1\" class=\"dataframe\">\n",
       "  <thead>\n",
       "    <tr style=\"text-align: right;\">\n",
       "      <th></th>\n",
       "      <th>Achiever, Explorer, Socializer, Influencer</th>\n",
       "      <th>Achiever</th>\n",
       "      <th>Explorer</th>\n",
       "      <th>Socializer</th>\n",
       "      <th>Influencer</th>\n",
       "    </tr>\n",
       "  </thead>\n",
       "  <tbody>\n",
       "    <tr>\n",
       "      <th>0</th>\n",
       "      <td>NaN</td>\n",
       "      <td>1.0</td>\n",
       "      <td>3.0</td>\n",
       "      <td>4.0</td>\n",
       "      <td>0.0</td>\n",
       "    </tr>\n",
       "    <tr>\n",
       "      <th>0</th>\n",
       "      <td>NaN</td>\n",
       "      <td>3.0</td>\n",
       "      <td>3.0</td>\n",
       "      <td>1.0</td>\n",
       "      <td>1.0</td>\n",
       "    </tr>\n",
       "    <tr>\n",
       "      <th>0</th>\n",
       "      <td>NaN</td>\n",
       "      <td>3.0</td>\n",
       "      <td>4.0</td>\n",
       "      <td>0.0</td>\n",
       "      <td>1.0</td>\n",
       "    </tr>\n",
       "    <tr>\n",
       "      <th>0</th>\n",
       "      <td>NaN</td>\n",
       "      <td>3.0</td>\n",
       "      <td>3.0</td>\n",
       "      <td>2.0</td>\n",
       "      <td>0.0</td>\n",
       "    </tr>\n",
       "    <tr>\n",
       "      <th>0</th>\n",
       "      <td>NaN</td>\n",
       "      <td>2.0</td>\n",
       "      <td>5.0</td>\n",
       "      <td>1.0</td>\n",
       "      <td>0.0</td>\n",
       "    </tr>\n",
       "    <tr>\n",
       "      <th>...</th>\n",
       "      <td>...</td>\n",
       "      <td>...</td>\n",
       "      <td>...</td>\n",
       "      <td>...</td>\n",
       "      <td>...</td>\n",
       "    </tr>\n",
       "    <tr>\n",
       "      <th>0</th>\n",
       "      <td>NaN</td>\n",
       "      <td>3.0</td>\n",
       "      <td>3.0</td>\n",
       "      <td>0.0</td>\n",
       "      <td>2.0</td>\n",
       "    </tr>\n",
       "    <tr>\n",
       "      <th>0</th>\n",
       "      <td>NaN</td>\n",
       "      <td>3.0</td>\n",
       "      <td>4.0</td>\n",
       "      <td>0.0</td>\n",
       "      <td>1.0</td>\n",
       "    </tr>\n",
       "    <tr>\n",
       "      <th>0</th>\n",
       "      <td>NaN</td>\n",
       "      <td>3.0</td>\n",
       "      <td>3.0</td>\n",
       "      <td>1.0</td>\n",
       "      <td>1.0</td>\n",
       "    </tr>\n",
       "    <tr>\n",
       "      <th>0</th>\n",
       "      <td>NaN</td>\n",
       "      <td>4.0</td>\n",
       "      <td>3.0</td>\n",
       "      <td>1.0</td>\n",
       "      <td>0.0</td>\n",
       "    </tr>\n",
       "    <tr>\n",
       "      <th>0</th>\n",
       "      <td>NaN</td>\n",
       "      <td>3.0</td>\n",
       "      <td>4.0</td>\n",
       "      <td>1.0</td>\n",
       "      <td>0.0</td>\n",
       "    </tr>\n",
       "  </tbody>\n",
       "</table>\n",
       "<p>500 rows × 5 columns</p>\n",
       "</div>"
      ],
      "text/plain": [
       "   Achiever, Explorer, Socializer, Influencer  Achiever  Explorer  Socializer  \\\n",
       "0                                         NaN       1.0       3.0         4.0   \n",
       "0                                         NaN       3.0       3.0         1.0   \n",
       "0                                         NaN       3.0       4.0         0.0   \n",
       "0                                         NaN       3.0       3.0         2.0   \n",
       "0                                         NaN       2.0       5.0         1.0   \n",
       "..                                        ...       ...       ...         ...   \n",
       "0                                         NaN       3.0       3.0         0.0   \n",
       "0                                         NaN       3.0       4.0         0.0   \n",
       "0                                         NaN       3.0       3.0         1.0   \n",
       "0                                         NaN       4.0       3.0         1.0   \n",
       "0                                         NaN       3.0       4.0         1.0   \n",
       "\n",
       "    Influencer  \n",
       "0          0.0  \n",
       "0          1.0  \n",
       "0          1.0  \n",
       "0          0.0  \n",
       "0          0.0  \n",
       "..         ...  \n",
       "0          2.0  \n",
       "0          1.0  \n",
       "0          1.0  \n",
       "0          0.0  \n",
       "0          0.0  \n",
       "\n",
       "[500 rows x 5 columns]"
      ]
     },
     "execution_count": 65,
     "metadata": {},
     "output_type": "execute_result"
    }
   ],
   "source": [
    "filler_real"
   ]
  },
  {
   "cell_type": "code",
   "execution_count": 70,
   "id": "92fd1d4c-7e32-47a6-98b5-77f1b62907e3",
   "metadata": {},
   "outputs": [
    {
     "name": "stdout",
     "output_type": "stream",
     "text": [
      "34.725 36.199999999999996 18.325 10.75\n"
     ]
    }
   ],
   "source": [
    "print(achiever_real, explorer_real, socializer_real, influencer_real)"
   ]
  },
  {
   "cell_type": "code",
   "execution_count": 71,
   "id": "c670b19e-ba90-407b-bc31-a9e3760452d0",
   "metadata": {},
   "outputs": [],
   "source": [
    "filler_df = pd.DataFrame(columns = [\"Achiever, Explorer, Socializer, Influencer\"])\n",
    "for i in range(reevaluation_df.shape[0]):\n",
    "    new_df = breakdown(answers_to_int(reevaluation_df.iloc[i].tolist(), personality_class))\n",
    "    filler_df = pd.concat([filler_df, new_df])\n",
    "achiever = filler_df[\"Achiever\"].mean()/8 * 100\n",
    "explorer = filler_df[\"Explorer\"].mean()/8 * 100\n",
    "socializer = filler_df[\"Socializer\"].mean()/8 * 100\n",
    "influencer = filler_df[\"Influencer\"].mean()/8 * 100"
   ]
  },
  {
   "cell_type": "code",
   "execution_count": 72,
   "id": "aed38104-bb1a-4639-9e12-3f14c57c9cab",
   "metadata": {},
   "outputs": [
    {
     "name": "stdout",
     "output_type": "stream",
     "text": [
      "35.0609756097561 37.674216027874564 16.855400696864113 10.409407665505228\n"
     ]
    }
   ],
   "source": [
    "print(achiever, explorer, socializer, influencer)"
   ]
  },
  {
   "cell_type": "code",
   "execution_count": 53,
   "id": "98ef9346-883f-4f3c-baa6-11f4ea897550",
   "metadata": {},
   "outputs": [],
   "source": [
    "# transform list of num values into dict with personality types as keys and \n",
    "def breakdown(answers_int):\n",
    "    '''\n",
    "    :type answers_int: arr int\n",
    "    :rtype: dataframe\n",
    "\n",
    "    takes in a arr of integers that represent personality classes and organizes them into a dictionary with aggregates\n",
    "    '''\n",
    "    result = {\n",
    "    \"Achiever\": 0,\n",
    "    \"Explorer\": 0,\n",
    "    \"Socializer\": 0,\n",
    "    \"Influencer\":0\n",
    "    }\n",
    "    for k in range(len(answers_int)):\n",
    "        if answers_int[k] == 1:\n",
    "            result[\"Achiever\"] += 1\n",
    "        elif answers_int[k] == 2:\n",
    "            result[\"Explorer\"] += 1\n",
    "        elif answers_int[k] == 3:\n",
    "            result[\"Socializer\"] += 1\n",
    "        elif answers_int[k] == 4:\n",
    "            result[\"Influencer\"] += 1\n",
    "    return (pd.DataFrame([result]))\n",
    "\n",
    "def answers_to_int(answers_str, personality_class):\n",
    "    '''\n",
    "    :type answers_list: arr str\n",
    "    :type personality_class: pandas dataframe\n",
    "    :rtype: arr int\n",
    "\n",
    "    * personality_class: first column has possible questions, each personality type represented as columns and corresponding row vals are survey answers that fit under that personality type\n",
    "    '''\n",
    "    result = []\n",
    "    # for each question (row indexes)\n",
    "    for row in range(len(answers_str)):\n",
    "        # then check the values in that row, aka the possible answers to that question\n",
    "        for col in range(personality_class.shape[1]):\n",
    "            # if the \n",
    "            if personality_class.iloc[row, col] == answers_str[row]:\n",
    "                result.append(col)\n",
    "\n",
    "    return result"
   ]
  },
  {
   "cell_type": "code",
   "execution_count": 52,
   "id": "17aa402b-7a96-4f00-8bcc-92eb6b36e7b2",
   "metadata": {},
   "outputs": [
    {
     "data": {
      "text/plain": [
       "[1, 2, 2, 4, 4, 4, 1, 2]"
      ]
     },
     "execution_count": 52,
     "metadata": {},
     "output_type": "execute_result"
    }
   ],
   "source": [
    "answers_to_int([1, 2, 3, 4, 1, 2, 3, 4], personality_class)"
   ]
  }
 ],
 "metadata": {
  "kernelspec": {
   "display_name": "Python 3 (ipykernel)",
   "language": "python",
   "name": "python3"
  },
  "language_info": {
   "codemirror_mode": {
    "name": "ipython",
    "version": 3
   },
   "file_extension": ".py",
   "mimetype": "text/x-python",
   "name": "python",
   "nbconvert_exporter": "python",
   "pygments_lexer": "ipython3",
   "version": "3.12.4"
  }
 },
 "nbformat": 4,
 "nbformat_minor": 5
}
